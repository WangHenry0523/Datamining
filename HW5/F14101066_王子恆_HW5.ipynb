{
  "cells": [
    {
      "cell_type": "markdown",
      "metadata": {
        "id": "MpsF5CYXt0KH"
      },
      "source": [
        "## Section 1: Similarity Computations"
      ]
    },
    {
      "cell_type": "markdown",
      "metadata": {
        "id": "jytsQjGut7tB"
      },
      "source": [
        "### 1.a Jaccard Similarity (Users)"
      ]
    },
    {
      "cell_type": "markdown",
      "metadata": {
        "id": "-18miLyvuCA3"
      },
      "source": [
        "### 1.b Jaccard Similarity (Movies)"
      ]
    },
    {
      "cell_type": "markdown",
      "metadata": {
        "id": "lW4Hn-9luQ6o"
      },
      "source": [
        "### 1.c Pearson Correlation (Users)"
      ]
    },
    {
      "cell_type": "markdown",
      "metadata": {
        "id": "A35JdiwDu3JY"
      },
      "source": [
        "## Section 2: Collaborative Filtering"
      ]
    },
    {
      "cell_type": "markdown",
      "metadata": {
        "id": "2l-jQdvgvF3C"
      },
      "source": [
        "### 2.d Application to Real Data"
      ]
    },
    {
      "cell_type": "markdown",
      "metadata": {
        "id": "wZIk3D-evScd"
      },
      "source": [
        "## Section 3: Latent Factor Recommendation"
      ]
    },
    {
      "cell_type": "markdown",
      "metadata": {
        "id": "QNIXKgKVvak0"
      },
      "source": [
        "### 3.b Implementation and Evaluation"
      ]
    }
  ],
  "metadata": {
    "colab": {
      "provenance": []
    },
    "kernelspec": {
      "display_name": "Python 3",
      "name": "python3"
    },
    "language_info": {
      "name": "python"
    }
  },
  "nbformat": 4,
  "nbformat_minor": 0
}
