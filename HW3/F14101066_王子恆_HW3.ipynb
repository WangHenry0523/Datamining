{
 "cells": [
  {
   "cell_type": "markdown",
   "id": "1d3891d0",
   "metadata": {},
   "source": [
    "## 1  Evaluation Metrics (20 %)"
   ]
  },
  {
   "cell_type": "markdown",
   "id": "2e11aa5a",
   "metadata": {},
   "source": [
    "### 1.1  \n"
   ]
  },
  {
   "cell_type": "markdown",
   "id": "bd4a6f41",
   "metadata": {},
   "source": [
    "#### Answer:<br>因為信賴度的公式為 P(A ∩ B)/P(A)，但我們並沒有考慮到B獨立發生的情況，若P(B)本身就很大同時也會造成信賴度變大，換句話說，我們無法從信賴度中看出A、B是否真的有關係，或只是因為P(B)很大所造成的巧合。"
   ]
  },
  {
   "cell_type": "markdown",
   "id": "5f29ad98",
   "metadata": {},
   "source": [
    "### 1.2  "
   ]
  },
  {
   "cell_type": "markdown",
   "id": "7d04ea53",
   "metadata": {},
   "source": [
    "#### Answer:<br>提升度與確信度不受影響的原因在於，提升度的公式有考慮到P(B)的獨立機率，當B、A兩者獨立的時候提升度為1，所以當我們看到提升度大於1時，表示A確實能有效提升，確信度的部分，從定義來看確信度是指當A發生而B沒有發生與B本就不發生的情況相比，它是有考慮到B的獨立機率的(從1-P(B))，有就是當P(B)很高時，信賴度會連帶被提高，但確信度的分母(1-confi(A->B))也會同時變小，因為B本來就很常發生，只有當「B 發生的機率因 A 的出現而大幅改變」時，它才會變大。"
   ]
  },
  {
   "cell_type": "markdown",
   "id": "d947266c",
   "metadata": {},
   "source": [
    "### 1.3 "
   ]
  },
  {
   "cell_type": "markdown",
   "id": "619e31d9",
   "metadata": {},
   "source": [
    "#### Answer:<br>1.信賴度為非對稱的，從公式推導可知，confidence(A->B)=P(A ∩ B)/P(A) confidence(B->A)=P(A ∩ B)/P(B)，也就是說除非P(A)=P(B)的特例之外都不會相等。<br>2.提升度為對稱的，從公式推導可知，lift(A->B)=P(A ∩ B)/(P(B)*P(A))，而lift(B->A)的分母因為乘法的交換律所以是相等的<br>3.確信度是非對稱的，從公式推導可知，分子在算conviction(A->B)時為1-P(B)而(B->A)時為1-P(A)，分母用到的信賴度也並非對稱的，因此除非P(A)=P(B)的特例之外都不會相等。"
   ]
  },
  {
   "cell_type": "markdown",
   "id": "2f7dfb77",
   "metadata": {},
   "source": [
    "### 1.4  "
   ]
  },
  {
   "cell_type": "markdown",
   "id": "c5868eee",
   "metadata": {},
   "source": [
    "#### Answer:<br>1.信賴度有達到最大值，因為信賴度的定義本身值域就是0->1。<br>2.提升度有達到最大值，當confidence為1時，Lift=1/P(B)，當P(B)非常小時Lift可以趨近無限大，也就是雖然B不常發生，但A發生時總伴隨B這樣的強規則。<br>3.確信度有達到最大值，從公式的分母來看1-confidence(A->B)為0，所以確信度趨近無限大，這代表當A發生時B一定發生且不可能違反(conviction=無限大)。"
   ]
  },
  {
   "cell_type": "markdown",
   "id": "854ada31",
   "metadata": {},
   "source": [
    "## 2  Application in Recommending Items (30 %)"
   ]
  },
  {
   "cell_type": "code",
   "execution_count": 3,
   "id": "c991c9b2",
   "metadata": {},
   "outputs": [],
   "source": [
    "#from apyori import apriori \n",
    "import numpy as np\n",
    "import pandas as pd\n",
    "from mlxtend.frequent_patterns import apriori, association_rules,fpgrowth\n",
    "from mlxtend.preprocessing import TransactionEncoder\n",
    "import time\n",
    "import matplotlib.pyplot as plt"
   ]
  },
  {
   "cell_type": "markdown",
   "id": "fc69044e",
   "metadata": {},
   "source": [
    "### 2.1  "
   ]
  },
  {
   "cell_type": "code",
   "execution_count": 4,
   "id": "47e795db",
   "metadata": {},
   "outputs": [
    {
     "name": "stdout",
     "output_type": "stream",
     "text": [
      "Items: ['DAI93865'] => ['FRO40251'], Confidence: 1.0\n",
      "Items: ['GRO85051'] => ['FRO40251'], Confidence: 0.9991762767710051\n",
      "Items: ['GRO38636'] => ['FRO40251'], Confidence: 0.9906542056074765\n",
      "Items: ['ELE12951'] => ['FRO40251'], Confidence: 0.9905660377358491\n",
      "Items: ['DAI88079'] => ['FRO40251'], Confidence: 0.9867256637168142\n"
     ]
    }
   ],
   "source": [
    "transaction=[]\n",
    "browsing=open('browsing.txt','r')\n",
    "for line in browsing:\n",
    "    item=line.strip().split()\n",
    "    transaction.append(item)\n",
    "\n",
    "encoder = TransactionEncoder()\n",
    "encoded_transaction = encoder.fit_transform(transaction)\n",
    "\n",
    "# 将转换后的数据转换为DataFrame\n",
    "df = pd.DataFrame(encoded_transaction, columns=encoder.columns_)\n",
    "\n",
    "frequent_itemsets = apriori(df, min_support=100/len(transaction),max_len=2,use_colnames=True)\n",
    "frequent_itemsets['length'] = frequent_itemsets['itemsets'].apply(lambda x: len(x))\n",
    "filtered_itemsets = frequent_itemsets[(frequent_itemsets['length'] == 2)]\n",
    "\n",
    "# 3. 生成关联规则\n",
    "rules = association_rules(frequent_itemsets, metric=\"confidence\", min_threshold=0.5)\n",
    "\n",
    "# 5. 提取並排序結果\n",
    "# 根据信賴度降序排序，信賴度相同的按字典順序排序\n",
    "sorted_rules = rules.sort_values(by=[\"confidence\", \"antecedents\"], ascending=[False, True])\n",
    "\n",
    "# 6. 打印前五個規則及其信賴度\n",
    "for index, row in sorted_rules.head(5).iterrows():\n",
    "    antecedents = list(row[\"antecedents\"])\n",
    "    consequents = list(row[\"consequents\"])\n",
    "    confidence = row[\"confidence\"]\n",
    "    print(f\"Items: {antecedents} => {consequents}, Confidence: {confidence}\")"
   ]
  },
  {
   "cell_type": "markdown",
   "id": "8377afb0",
   "metadata": {},
   "source": [
    "### 2.2  "
   ]
  },
  {
   "cell_type": "code",
   "execution_count": 5,
   "id": "c37c602c",
   "metadata": {},
   "outputs": [
    {
     "name": "stdout",
     "output_type": "stream",
     "text": [
      "Items: ['ELE26917', 'GRO85051'] => ['FRO40251'], Confidence: 1.0\n",
      "Items: ['FRO53271', 'GRO85051'] => ['FRO40251'], Confidence: 1.0\n",
      "Items: ['GRO21487', 'GRO85051'] => ['FRO40251'], Confidence: 1.0\n",
      "Items: ['GRO38814', 'GRO85051'] => ['FRO40251'], Confidence: 1.0\n",
      "Items: ['GRO73461', 'GRO85051'] => ['FRO40251'], Confidence: 1.0\n"
     ]
    }
   ],
   "source": [
    "transaction=[]\n",
    "browsing=open('browsing.txt','r')\n",
    "for line in browsing:\n",
    "    item=line.strip().split()\n",
    "    transaction.append(item)\n",
    "\n",
    "encoder = TransactionEncoder()\n",
    "encoded_transaction = encoder.fit_transform(transaction)\n",
    "\n",
    "# 将转换后的数据转换为DataFrame\n",
    "df = pd.DataFrame(encoded_transaction, columns=encoder.columns_)\n",
    "\n",
    "frequent_itemsets = apriori(df, min_support=100/len(transaction),max_len=3,use_colnames=True)\n",
    "frequent_itemsets['length'] = frequent_itemsets['itemsets'].apply(lambda x: len(x))\n",
    "filtered_itemsets = frequent_itemsets[(frequent_itemsets['length'] == 3)]\n",
    "\n",
    "# 3. 生成关联规则\n",
    "rules = association_rules(frequent_itemsets, metric=\"confidence\", min_threshold=0.5)\n",
    "\n",
    "# 5. 提取並排序結果\n",
    "# 根据信賴度降序排序，信賴度相同的按字典順序排序\n",
    "sorted_rules = rules.sort_values(by=[\"confidence\", \"antecedents\"], ascending=[False, True])\n",
    "\n",
    "# 6. 打印前五個規則及其信賴度\n",
    "for index, row in sorted_rules.head(5).iterrows():\n",
    "    antecedents = list(row[\"antecedents\"])\n",
    "    consequents = list(row[\"consequents\"])\n",
    "    confidence = row[\"confidence\"]\n",
    "    print(f\"Items: {antecedents} => {consequents}, Confidence: {confidence}\")"
   ]
  },
  {
   "cell_type": "markdown",
   "id": "11232c75",
   "metadata": {},
   "source": [
    "## 3  Scalability Comparisons (40 %)"
   ]
  },
  {
   "cell_type": "code",
   "execution_count": 4,
   "id": "09e74ebe",
   "metadata": {},
   "outputs": [],
   "source": [
    "transaction=[]\n",
    "browsing=open('browsing.txt','r')\n",
    "for line in browsing:\n",
    "    item=line.strip().split()\n",
    "    transaction.append(item)\n",
    "\n",
    "encoder = TransactionEncoder()\n",
    "encoded_transaction = encoder.fit_transform(transaction)\n",
    "\n",
    "#轉換後之數據再轉為DataFrame\n",
    "df = pd.DataFrame(encoded_transaction, columns=encoder.columns_)"
   ]
  },
  {
   "cell_type": "markdown",
   "id": "cd33c727",
   "metadata": {},
   "source": [
    "### 3.1  "
   ]
  },
  {
   "cell_type": "code",
   "execution_count": 5,
   "id": "01415e3c",
   "metadata": {},
   "outputs": [
    {
     "name": "stdout",
     "output_type": "stream",
     "text": [
      "執行時間:2.5115580558776855\n",
      "執行時間:2.8958303928375244\n",
      "執行時間:3.7510550022125244\n",
      "執行時間:5.705514669418335\n",
      "執行時間:8.39185118675232\n",
      "執行時間:20.811421155929565\n"
     ]
    },
    {
     "data": {
      "image/png": "[encoded data removed]",
      "text/plain": [
       "<Figure size 640x480 with 1 Axes>"
      ]
     },
     "metadata": {},
     "output_type": "display_data"
    }
   ],
   "source": [
    "operation_time=[100/len(transaction),50/len(transaction),25/len(transaction)]\n",
    "item=[2,3]\n",
    "outcome={\"Apriori-Pair\":[],\"Apriori-Triple\":[]}\n",
    "for i in item:\n",
    "    for j in operation_time:\n",
    "        start_time=time.time()\n",
    "        frequent_itemsets = apriori(df, min_support=j,max_len=i,use_colnames=True,low_memory=True)\n",
    "        frequent_itemsets['length'] = frequent_itemsets['itemsets'].apply(lambda x: len(x))\n",
    "        filtered_itemsets = frequent_itemsets[(frequent_itemsets['length'] ==i)]\n",
    "        end_time=time.time()\n",
    "        execution_time=end_time-start_time\n",
    "        if(i==2):\n",
    "            outcome['Apriori-Pair'].append(execution_time)\n",
    "        elif(i==3):\n",
    "            outcome['Apriori-Triple'].append(execution_time)\n",
    "        print(f\"執行時間:{execution_time}\")\n",
    "x_labels=[100,50,25]\n",
    "plt.plot(x_labels,outcome['Apriori-Pair'],marker='o', label='Pair(2-itemsets)')\n",
    "plt.plot(x_labels,outcome['Apriori-Triple'],marker='s', label='Triple(3-itemsets)')\n",
    "plt.xlabel('min_support')\n",
    "plt.ylabel('Execution Time (s)')\n",
    "plt.title('Apriori Execution Time vs min_support')\n",
    "plt.legend()\n",
    "plt.grid(True)\n",
    "plt.tight_layout()\n",
    "plt.show()\n"
   ]
  },
  {
   "cell_type": "code",
   "execution_count": 45,
   "id": "0b39fe0e",
   "metadata": {},
   "outputs": [
    {
     "data": {
      "text/html": [
       "<div>\n",
       "<style scoped>\n",
       "    .dataframe tbody tr th:only-of-type {\n",
       "        vertical-align: middle;\n",
       "    }\n",
       "\n",
       "    .dataframe tbody tr th {\n",
       "        vertical-align: top;\n",
       "    }\n",
       "\n",
       "    .dataframe thead th {\n",
       "        text-align: right;\n",
       "    }\n",
       "</style>\n",
       "<table border=\"1\" class=\"dataframe\">\n",
       "  <thead>\n",
       "    <tr style=\"text-align: right;\">\n",
       "      <th></th>\n",
       "      <th>1</th>\n",
       "      <th>2</th>\n",
       "      <th>3</th>\n",
       "    </tr>\n",
       "  </thead>\n",
       "  <tbody>\n",
       "    <tr>\n",
       "      <th>Support</th>\n",
       "      <td>100</td>\n",
       "      <td>50</td>\n",
       "      <td>25</td>\n",
       "    </tr>\n",
       "    <tr>\n",
       "      <th>Apriori-Pair</th>\n",
       "      <td>2.511558</td>\n",
       "      <td>2.89583</td>\n",
       "      <td>3.751055</td>\n",
       "    </tr>\n",
       "    <tr>\n",
       "      <th>Apriori-Triple</th>\n",
       "      <td>5.705515</td>\n",
       "      <td>8.391851</td>\n",
       "      <td>20.811421</td>\n",
       "    </tr>\n",
       "  </tbody>\n",
       "</table>\n",
       "</div>"
      ],
      "text/plain": [
       "                       1         2          3\n",
       "Support              100        50         25\n",
       "Apriori-Pair    2.511558   2.89583   3.751055\n",
       "Apriori-Triple  5.705515  8.391851  20.811421"
      ]
     },
     "metadata": {},
     "output_type": "display_data"
    }
   ],
   "source": [
    "Support=[\"100\",\"50\",\"25\"]\n",
    "df= pd.DataFrame({\n",
    "    \"1\": [Support[0], outcome[\"Apriori-Pair\"][0], outcome[\"Apriori-Triple\"][0]],\n",
    "    \"2\": [Support[1], outcome[\"Apriori-Pair\"][1], outcome[\"Apriori-Triple\"][1]],\n",
    "    \"3\": [Support[2], outcome[\"Apriori-Pair\"][2], outcome[\"Apriori-Triple\"][2]],\n",
    "},index=[\"Support\",\"Apriori-Pair\",\"Apriori-Triple\"])  \n",
    "display(df)"
   ]
  },
  {
   "cell_type": "markdown",
   "id": "03314527",
   "metadata": {},
   "source": [
    "#### 從圖中可以發現隨著支持度閾值的降低兩者所花費的時間皆有所提升，但三項組合的執行時間提升速度明顯快過二項組合(三項組合在50->100時慢了3倍二項組合約1.3倍)，兩者並不平行，也就是說它的擴展性差，當我們想要調查更多產品之間的關聯組合時會同時帶給我們很大的成本。"
   ]
  },
  {
   "cell_type": "markdown",
   "id": "d4f3d99e",
   "metadata": {},
   "source": [
    "#### 在本題中的apripri演算法有將參數low_memory設為True，由於在計算最小支持度為50時需要大約18G的記憶體去儲存矩陣因此造成Memory error，最後決定使用low_memory方法，跟一般用法不同的是它不會把全部資訊儲存進記憶體中，而是使用迭代器的方式逐步搜尋優點是可以減少記憶體的使用，缺點則是統計來說會比一般方法要慢，適合用於大型資料集。"
   ]
  },
  {
   "cell_type": "markdown",
   "id": "f8bb3b61",
   "metadata": {},
   "source": [
    "### 3.2"
   ]
  },
  {
   "cell_type": "code",
   "execution_count": 8,
   "id": "ea687820",
   "metadata": {},
   "outputs": [
    {
     "name": "stdout",
     "output_type": "stream",
     "text": [
      "執行時間:112.93712639808655\n",
      "執行時間:372.2282979488373\n",
      "執行時間:1043.7942097187042\n",
      "執行時間:145.38757801055908\n",
      "執行時間:480.49766206741333\n",
      "執行時間:1528.446256160736\n"
     ]
    },
    {
     "data": {
      "image/png": "[encoded data removed]",
      "text/plain": [
       "<Figure size 640x480 with 1 Axes>"
      ]
     },
     "metadata": {},
     "output_type": "display_data"
    }
   ],
   "source": [
    "operation_time=[100/len(transaction),50/len(transaction),25/len(transaction)]\n",
    "item=[2,3]\n",
    "outcome = {\"FP-Pair\": [], \"FP-Triple\": []}\n",
    "for i in item:\n",
    "    for j in operation_time:\n",
    "        start_time=time.time()\n",
    "        frequent_itemsets = fpgrowth(df, min_support=j, use_colnames=True, max_len=i)\n",
    "        frequent_itemsets['length'] = frequent_itemsets['itemsets'].apply(lambda x: len(x))\n",
    "        filtered_itemsets = frequent_itemsets[(frequent_itemsets['length'] ==i)]\n",
    "        end_time=time.time()\n",
    "        execution_time=end_time-start_time\n",
    "        if(i==2):\n",
    "            outcome[\"FP-Pair\"].append(execution_time)\n",
    "        elif(i==3):\n",
    "            outcome['FP-Triple'].append(execution_time)\n",
    "        print(f\"執行時間:{execution_time}\")\n",
    "x_labels=[100,50,25]\n",
    "plt.plot(x_labels,outcome[\"FP-Pair\"],marker='o', label='Pair(2-itemsets)')\n",
    "plt.plot(x_labels,outcome['FP-Triple'],marker='s', label='Triple(3-itemsets)')\n",
    "plt.xlabel('min_support')\n",
    "plt.ylabel('Execution Time (s)')\n",
    "plt.title('FP-growth Execution Time vs min_support')\n",
    "plt.legend()\n",
    "plt.grid(True)\n",
    "plt.tight_layout()\n",
    "plt.show()\n"
   ]
  },
  {
   "cell_type": "code",
   "execution_count": null,
   "id": "4fc7bd76",
   "metadata": {},
   "outputs": [
    {
     "data": {
      "text/html": [
       "<div>\n",
       "<style scoped>\n",
       "    .dataframe tbody tr th:only-of-type {\n",
       "        vertical-align: middle;\n",
       "    }\n",
       "\n",
       "    .dataframe tbody tr th {\n",
       "        vertical-align: top;\n",
       "    }\n",
       "\n",
       "    .dataframe thead th {\n",
       "        text-align: right;\n",
       "    }\n",
       "</style>\n",
       "<table border=\"1\" class=\"dataframe\">\n",
       "  <thead>\n",
       "    <tr style=\"text-align: right;\">\n",
       "      <th></th>\n",
       "      <th>1</th>\n",
       "      <th>2</th>\n",
       "      <th>3</th>\n",
       "    </tr>\n",
       "  </thead>\n",
       "  <tbody>\n",
       "    <tr>\n",
       "      <th>Support</th>\n",
       "      <td>100</td>\n",
       "      <td>50</td>\n",
       "      <td>25</td>\n",
       "    </tr>\n",
       "    <tr>\n",
       "      <th>FP-Pair</th>\n",
       "      <td>1</td>\n",
       "      <td>2</td>\n",
       "      <td>3</td>\n",
       "    </tr>\n",
       "    <tr>\n",
       "      <th>FP-Triple</th>\n",
       "      <td>1</td>\n",
       "      <td>2</td>\n",
       "      <td>3</td>\n",
       "    </tr>\n",
       "  </tbody>\n",
       "</table>\n",
       "</div>"
      ],
      "text/plain": [
       "             1   2   3\n",
       "Support    100  50  25\n",
       "FP-Pair      1   2   3\n",
       "FP-Triple    1   2   3"
      ]
     },
     "metadata": {},
     "output_type": "display_data"
    }
   ],
   "source": [
    "Support=[\"100\",\"50\",\"25\"]\n",
    "df= pd.DataFrame({\n",
    "    \"1\": [Support[0], outcome[\"FP-Pair\"][0], outcome[\"FP-Triple\"][0]],\n",
    "    \"2\": [Support[1], outcome[\"FP-Pair\"][1], outcome[\"FP-Triple\"][1]],\n",
    "    \"3\": [Support[2], outcome[\"FP-Pair\"][2], outcome[\"FP-Triple\"][2]],\n",
    "},index=[\"Support\",\"FP-Pair\",\"FP-Triple\"])  \n",
    "display(df)"
   ]
  },
  {
   "cell_type": "markdown",
   "id": "5853b501",
   "metadata": {},
   "source": [
    "#### 從圖中可以發現隨著支持度閾值的降低兩者所花費的時間皆有所提升，但不同於使用Apriori演算法，三項組合的執行時間和二項組合的執行時間增長速度相當，兩者呈現平行，也就是說它的擴展性佳，當我們想要調查更多產品之間的關聯組合並不會造成太大的額外時間成本。"
   ]
  },
  {
   "cell_type": "markdown",
   "id": "a9d08c39",
   "metadata": {},
   "source": [
    "### 3.3  "
   ]
  },
  {
   "cell_type": "markdown",
   "id": "34eed8e6",
   "metadata": {},
   "source": [
    "#### 從兩個演算法的圖中可以明顯發現使用FP-growth演算法較為平穩且較少明顯時間增加的趨勢，這代表它具有較高擴展性，當我們想要調查更多產品之間的關聯組合並不會造成額外的時間成本。而掃描次數的話，Apriori掃描的次數跟我們設定的項集次數有關，若我們想要三項組合它就會重複三次，FP-growth通常會掃描兩次第一次掃描用來計算項目頻率，第二次則用來建FP-Tree，之後都是用遞迴壓縮方式進行。"
   ]
  }
 ],
 "metadata": {
  "kernelspec": {
   "display_name": "datamining",
   "language": "python",
   "name": "python3"
  },
  "language_info": {
   "codemirror_mode": {
    "name": "ipython",
    "version": 3
   },
   "file_extension": ".py",
   "mimetype": "text/x-python",
   "name": "python",
   "nbconvert_exporter": "python",
   "pygments_lexer": "ipython3",
   "version": "3.10.16"
  }
 },
 "nbformat": 4,
 "nbformat_minor": 5
}
